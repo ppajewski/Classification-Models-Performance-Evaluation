{
  "nbformat": 4,
  "nbformat_minor": 0,
  "metadata": {
    "colab": {
      "name": "Classification Models Performance Evaluation.ipnyb",
      "provenance": [],
      "collapsed_sections": [],
      "toc_visible": true,
      "machine_shape": "hm",
      "include_colab_link": true
    },
    "kernelspec": {
      "name": "python3",
      "display_name": "Python 3"
    }
  },
  "cells": [
    {
      "cell_type": "markdown",
      "metadata": {
        "id": "view-in-github",
        "colab_type": "text"
      },
      "source": [
        "<a href=\"https://colab.research.google.com/github/ppajewski/classification-Models-Performance-Evaluation/blob/master/Classification_Models_Performance_Evaluation_ipnyb.ipynb\" target=\"_parent\"><img src=\"https://colab.research.google.com/assets/colab-badge.svg\" alt=\"Open In Colab\"/></a>"
      ]
    },
    {
      "cell_type": "markdown",
      "metadata": {
        "id": "0MRC0e0KhQ0S"
      },
      "source": [
        "# Classification Models Performance Evaluation"
      ]
    },
    {
      "cell_type": "markdown",
      "metadata": {
        "id": "LWd1UlMnhT2s"
      },
      "source": [
        "## Importing the libraries"
      ]
    },
    {
      "cell_type": "code",
      "metadata": {
        "id": "YvGPUQaHhXfL"
      },
      "source": [
        "import numpy as np\n",
        "import matplotlib.pyplot as plt\n",
        "import pandas as pd"
      ],
      "execution_count": 51,
      "outputs": []
    },
    {
      "cell_type": "markdown",
      "metadata": {
        "id": "K1VMqkGvhc3-"
      },
      "source": [
        "## Importing the dataset"
      ]
    },
    {
      "cell_type": "code",
      "metadata": {
        "id": "M52QDmyzhh9s"
      },
      "source": [
        "dataset = pd.read_csv('Data.csv')\n",
        "X = dataset.iloc[:, :-1].values\n",
        "y = dataset.iloc[:, -1].values"
      ],
      "execution_count": 52,
      "outputs": []
    },
    {
      "cell_type": "markdown",
      "metadata": {
        "id": "YvxIPVyMhmKp"
      },
      "source": [
        "## Splitting the dataset into the Training set and Test set"
      ]
    },
    {
      "cell_type": "code",
      "metadata": {
        "id": "AVzJWAXIhxoC"
      },
      "source": [
        "from sklearn.model_selection import train_test_split\n",
        "X_train, X_test, y_train, y_test = train_test_split(X, y, test_size = 0.3, random_state = 0)"
      ],
      "execution_count": 53,
      "outputs": []
    },
    {
      "cell_type": "markdown",
      "metadata": {
        "id": "kW3c7UYih0hT"
      },
      "source": [
        "## Feature Scaling"
      ]
    },
    {
      "cell_type": "code",
      "metadata": {
        "id": "9fQlDPKCh8sc"
      },
      "source": [
        "from sklearn.preprocessing import StandardScaler\n",
        "sc = StandardScaler()\n",
        "X_train = sc.fit_transform(X_train)\n",
        "X_test = sc.transform(X_test)"
      ],
      "execution_count": 54,
      "outputs": []
    },
    {
      "cell_type": "markdown",
      "metadata": {
        "id": "KITJij3OofrJ"
      },
      "source": [
        "## Training the Logistic Regression model on the Training set"
      ]
    },
    {
      "cell_type": "code",
      "metadata": {
        "id": "KHA_NpkdofrL",
        "outputId": "3e302cbc-2678-498c-b96e-1b04f129f7ec",
        "colab": {
          "base_uri": "https://localhost:8080/",
          "height": 101
        }
      },
      "source": [
        "from sklearn.linear_model import LogisticRegression\n",
        "classifier_LR = LogisticRegression(random_state = 0)\n",
        "classifier_LR.fit(X_train, y_train)"
      ],
      "execution_count": 55,
      "outputs": [
        {
          "output_type": "execute_result",
          "data": {
            "text/plain": [
              "LogisticRegression(C=1.0, class_weight=None, dual=False, fit_intercept=True,\n",
              "                   intercept_scaling=1, l1_ratio=None, max_iter=100,\n",
              "                   multi_class='auto', n_jobs=None, penalty='l2',\n",
              "                   random_state=0, solver='lbfgs', tol=0.0001, verbose=0,\n",
              "                   warm_start=False)"
            ]
          },
          "metadata": {
            "tags": []
          },
          "execution_count": 55
        }
      ]
    },
    {
      "cell_type": "markdown",
      "metadata": {
        "id": "bb6jCOCQiAmP"
      },
      "source": [
        "## Training the Decision Tree Classification model on the Training set"
      ]
    },
    {
      "cell_type": "code",
      "metadata": {
        "id": "e0pFVAmciHQs",
        "outputId": "bf463f9f-8327-43bd-837d-b47e0f9e8f35",
        "colab": {
          "base_uri": "https://localhost:8080/",
          "height": 118
        }
      },
      "source": [
        "from sklearn.tree import DecisionTreeClassifier\n",
        "classifier_DT = DecisionTreeClassifier(criterion = 'entropy', random_state = 0)\n",
        "classifier_DT.fit(X_train, y_train)"
      ],
      "execution_count": 56,
      "outputs": [
        {
          "output_type": "execute_result",
          "data": {
            "text/plain": [
              "DecisionTreeClassifier(ccp_alpha=0.0, class_weight=None, criterion='entropy',\n",
              "                       max_depth=None, max_features=None, max_leaf_nodes=None,\n",
              "                       min_impurity_decrease=0.0, min_impurity_split=None,\n",
              "                       min_samples_leaf=1, min_samples_split=2,\n",
              "                       min_weight_fraction_leaf=0.0, presort='deprecated',\n",
              "                       random_state=0, splitter='best')"
            ]
          },
          "metadata": {
            "tags": []
          },
          "execution_count": 56
        }
      ]
    },
    {
      "cell_type": "markdown",
      "metadata": {
        "id": "uHx2mTmIoOq0"
      },
      "source": [
        "## Training the K-NN model on the Training set"
      ]
    },
    {
      "cell_type": "code",
      "metadata": {
        "id": "ENoSwWpGoOq6",
        "outputId": "36ce3889-a3eb-4727-bdf6-bc92c3ee1eb3",
        "colab": {
          "base_uri": "https://localhost:8080/",
          "height": 67
        }
      },
      "source": [
        "from sklearn.neighbors import KNeighborsClassifier\n",
        "classifier_KNN = KNeighborsClassifier(n_neighbors = 5, metric = 'minkowski', p = 2)\n",
        "classifier_KNN.fit(X_train, y_train)"
      ],
      "execution_count": 57,
      "outputs": [
        {
          "output_type": "execute_result",
          "data": {
            "text/plain": [
              "KNeighborsClassifier(algorithm='auto', leaf_size=30, metric='minkowski',\n",
              "                     metric_params=None, n_jobs=None, n_neighbors=5, p=2,\n",
              "                     weights='uniform')"
            ]
          },
          "metadata": {
            "tags": []
          },
          "execution_count": 57
        }
      ]
    },
    {
      "cell_type": "markdown",
      "metadata": {
        "id": "CwD6DGv5oRQc"
      },
      "source": [
        "## Training the Kernel SVM model on the Training set"
      ]
    },
    {
      "cell_type": "code",
      "metadata": {
        "id": "i_R6vSfNoRQf",
        "outputId": "57cce175-0404-4d84-93d4-7edc43276b9e",
        "colab": {
          "base_uri": "https://localhost:8080/",
          "height": 84
        }
      },
      "source": [
        "from sklearn.svm import SVC\n",
        "classifier_KSVM = SVC(kernel = 'rbf', random_state = 0)\n",
        "classifier_KSVM.fit(X_train, y_train)"
      ],
      "execution_count": 58,
      "outputs": [
        {
          "output_type": "execute_result",
          "data": {
            "text/plain": [
              "SVC(C=1.0, break_ties=False, cache_size=200, class_weight=None, coef0=0.0,\n",
              "    decision_function_shape='ovr', degree=3, gamma='scale', kernel='rbf',\n",
              "    max_iter=-1, probability=False, random_state=0, shrinking=True, tol=0.001,\n",
              "    verbose=False)"
            ]
          },
          "metadata": {
            "tags": []
          },
          "execution_count": 58
        }
      ]
    },
    {
      "cell_type": "markdown",
      "metadata": {
        "id": "BZri372xong4"
      },
      "source": [
        "## Training the Naive Bayes model on the Training set"
      ]
    },
    {
      "cell_type": "code",
      "metadata": {
        "id": "BVaYNB1Hong6",
        "outputId": "56072372-01ff-47f7-81ea-377aeec4cb6b",
        "colab": {
          "base_uri": "https://localhost:8080/",
          "height": 34
        }
      },
      "source": [
        "from sklearn.naive_bayes import GaussianNB\n",
        "classifier_NB = GaussianNB()\n",
        "classifier_NB.fit(X_train, y_train)"
      ],
      "execution_count": 59,
      "outputs": [
        {
          "output_type": "execute_result",
          "data": {
            "text/plain": [
              "GaussianNB(priors=None, var_smoothing=1e-09)"
            ]
          },
          "metadata": {
            "tags": []
          },
          "execution_count": 59
        }
      ]
    },
    {
      "cell_type": "markdown",
      "metadata": {
        "id": "QQsCmRkzorSu"
      },
      "source": [
        "## Training the Random Forest Classification model on the Training set"
      ]
    },
    {
      "cell_type": "code",
      "metadata": {
        "id": "8Zvy-L3qorS0",
        "outputId": "d5c4ce2b-6525-4afd-cec4-751ab70e8269",
        "colab": {
          "base_uri": "https://localhost:8080/",
          "height": 151
        }
      },
      "source": [
        "from sklearn.ensemble import RandomForestClassifier\n",
        "classifier_RF = RandomForestClassifier(n_estimators = 10, criterion = 'entropy', random_state = 0)\n",
        "classifier_RF.fit(X_train, y_train)"
      ],
      "execution_count": 60,
      "outputs": [
        {
          "output_type": "execute_result",
          "data": {
            "text/plain": [
              "RandomForestClassifier(bootstrap=True, ccp_alpha=0.0, class_weight=None,\n",
              "                       criterion='entropy', max_depth=None, max_features='auto',\n",
              "                       max_leaf_nodes=None, max_samples=None,\n",
              "                       min_impurity_decrease=0.0, min_impurity_split=None,\n",
              "                       min_samples_leaf=1, min_samples_split=2,\n",
              "                       min_weight_fraction_leaf=0.0, n_estimators=10,\n",
              "                       n_jobs=None, oob_score=False, random_state=0, verbose=0,\n",
              "                       warm_start=False)"
            ]
          },
          "metadata": {
            "tags": []
          },
          "execution_count": 60
        }
      ]
    },
    {
      "cell_type": "markdown",
      "metadata": {
        "id": "N6qJYemyoxlK"
      },
      "source": [
        "## Training the SVM model on the Training set"
      ]
    },
    {
      "cell_type": "code",
      "metadata": {
        "id": "P4DqhujvoxlO",
        "outputId": "d48fe36a-028e-4575-9f88-53d41739c59a",
        "colab": {
          "base_uri": "https://localhost:8080/",
          "height": 84
        }
      },
      "source": [
        "from sklearn.svm import SVC\n",
        "classifier_SVM = SVC(kernel = 'linear', random_state = 0)\n",
        "classifier_SVM.fit(X_train, y_train)"
      ],
      "execution_count": 61,
      "outputs": [
        {
          "output_type": "execute_result",
          "data": {
            "text/plain": [
              "SVC(C=1.0, break_ties=False, cache_size=200, class_weight=None, coef0=0.0,\n",
              "    decision_function_shape='ovr', degree=3, gamma='scale', kernel='linear',\n",
              "    max_iter=-1, probability=False, random_state=0, shrinking=True, tol=0.001,\n",
              "    verbose=False)"
            ]
          },
          "metadata": {
            "tags": []
          },
          "execution_count": 61
        }
      ]
    },
    {
      "cell_type": "markdown",
      "metadata": {
        "id": "1Y89ctGZ7Mcx"
      },
      "source": [
        "## Training XGBoost on the Training set"
      ]
    },
    {
      "cell_type": "code",
      "metadata": {
        "id": "ude1J0E47SKN",
        "outputId": "003ace4c-afb6-4a4f-92d4-0e3155e80fd8",
        "colab": {
          "base_uri": "https://localhost:8080/",
          "height": 134
        }
      },
      "source": [
        "from xgboost import XGBClassifier\n",
        "classifier_XGB = XGBClassifier()\n",
        "classifier_XGB.fit(X_train, y_train)"
      ],
      "execution_count": 62,
      "outputs": [
        {
          "output_type": "execute_result",
          "data": {
            "text/plain": [
              "XGBClassifier(base_score=0.5, booster='gbtree', colsample_bylevel=1,\n",
              "              colsample_bynode=1, colsample_bytree=1, gamma=0,\n",
              "              learning_rate=0.1, max_delta_step=0, max_depth=3,\n",
              "              min_child_weight=1, missing=None, n_estimators=100, n_jobs=1,\n",
              "              nthread=None, objective='binary:logistic', random_state=0,\n",
              "              reg_alpha=0, reg_lambda=1, scale_pos_weight=1, seed=None,\n",
              "              silent=None, subsample=1, verbosity=1)"
            ]
          },
          "metadata": {
            "tags": []
          },
          "execution_count": 62
        }
      ]
    },
    {
      "cell_type": "markdown",
      "metadata": {
        "id": "h4Hwj34ziWQW"
      },
      "source": [
        "## Making the Confusion Matrix"
      ]
    },
    {
      "cell_type": "code",
      "metadata": {
        "id": "D6bpZwUiiXic",
        "outputId": "f81acaf5-e1a9-4141-9126-17046a1f3e4a",
        "colab": {
          "base_uri": "https://localhost:8080/",
          "height": 554
        }
      },
      "source": [
        "from sklearn.metrics import confusion_matrix, accuracy_score\n",
        "y_pred = classifier_LR.predict(X_test)\n",
        "cm = confusion_matrix(y_test, y_pred)\n",
        "print(f\"Accuracy score for the Logistic Regression is: {accuracy_score(y_test, y_pred)}\")\n",
        "print(\"and the confusion matrix: \")\n",
        "print(cm)\n",
        "y_pred = classifier_DT.predict(X_test)\n",
        "cm = confusion_matrix(y_test, y_pred)\n",
        "print(f\"Accuracy score for the Decision Tree is: {accuracy_score(y_test, y_pred)}\")\n",
        "print(\"and the confusion matrix: \")\n",
        "print(cm)\n",
        "y_pred = classifier_KNN.predict(X_test)\n",
        "cm = confusion_matrix(y_test, y_pred)\n",
        "print(f\"Accuracy score for the K-NN is: {accuracy_score(y_test, y_pred)}\")\n",
        "print(\"and the confusion matrix: \")\n",
        "print(cm)\n",
        "y_pred = classifier_KSVM.predict(X_test)\n",
        "cm = confusion_matrix(y_test, y_pred)\n",
        "print(f\"Accuracy score for the Kernel SVM is: {accuracy_score(y_test, y_pred)}\")\n",
        "print(\"and the confusion matrix: \")\n",
        "print(cm)\n",
        "y_pred = classifier_NB.predict(X_test)\n",
        "cm = confusion_matrix(y_test, y_pred)\n",
        "print(f\"Accuracy score for the Naive Bayes is: {accuracy_score(y_test, y_pred)}\")\n",
        "print(\"and the confusion matrix: \")\n",
        "print(cm)\n",
        "y_pred = classifier_RF.predict(X_test)\n",
        "cm = confusion_matrix(y_test, y_pred)\n",
        "print(f\"Accuracy score for the Random Forest is: {accuracy_score(y_test, y_pred)}\")\n",
        "print(\"and the confusion matrix: \")\n",
        "print(cm)\n",
        "y_pred = classifier_SVM.predict(X_test)\n",
        "cm = confusion_matrix(y_test, y_pred)\n",
        "print(f\"Accuracy score for the Linear SVM is: {accuracy_score(y_test, y_pred)}\")\n",
        "print(\"and the confusion matrix: \")\n",
        "print(cm)\n",
        "y_pred = classifier_XGB.predict(X_test)\n",
        "cm = confusion_matrix(y_test, y_pred)\n",
        "print(f\"Accuracy score for the XGBoost is: {accuracy_score(y_test, y_pred)}\")\n",
        "print(\"and the confusion matrix: \")\n",
        "print(cm)"
      ],
      "execution_count": 63,
      "outputs": [
        {
          "output_type": "stream",
          "text": [
            "Accuracy score for the Logistic Regression is: 0.9560975609756097\n",
            "and the confusion matrix: \n",
            "[[126   4]\n",
            " [  5  70]]\n",
            "Accuracy score for the Decision Tree is: 0.9463414634146341\n",
            "and the confusion matrix: \n",
            "[[126   4]\n",
            " [  7  68]]\n",
            "Accuracy score for the K-NN is: 0.9512195121951219\n",
            "and the confusion matrix: \n",
            "[[126   4]\n",
            " [  6  69]]\n",
            "Accuracy score for the Kernel SVM is: 0.9560975609756097\n",
            "and the confusion matrix: \n",
            "[[124   6]\n",
            " [  3  72]]\n",
            "Accuracy score for the Naive Bayes is: 0.9463414634146341\n",
            "and the confusion matrix: \n",
            "[[121   9]\n",
            " [  2  73]]\n",
            "Accuracy score for the Random Forest is: 0.9560975609756097\n",
            "and the confusion matrix: \n",
            "[[126   4]\n",
            " [  5  70]]\n",
            "Accuracy score for the Linear SVM is: 0.9609756097560975\n",
            "and the confusion matrix: \n",
            "[[126   4]\n",
            " [  4  71]]\n",
            "Accuracy score for the XGBoost is: 0.9463414634146341\n",
            "and the confusion matrix: \n",
            "[[126   4]\n",
            " [  7  68]]\n"
          ],
          "name": "stdout"
        }
      ]
    }
  ]
}